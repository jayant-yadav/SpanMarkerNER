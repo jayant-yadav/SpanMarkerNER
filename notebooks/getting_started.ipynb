{
 "cells": [
  {
   "attachments": {},
   "cell_type": "markdown",
   "metadata": {},
   "source": [
    "## SpanMarker for Named Entity Recognition\n",
    "[SpanMarker](github.com/tomaarsen/SpanMarkerNER) is an accessible yet powerful Python module for training Named Entity Recognition models.\n",
    "\n",
    "In this notebook, we'll have a look at how to train an NER model using SpanMarker."
   ]
  },
  {
   "attachments": {},
   "cell_type": "markdown",
   "metadata": {},
   "source": [
    "### Setup\n",
    "First of all, the `span_marker` Python module needs to be installed. If we want to use [Weights and Biases](https://wandb.ai/) for logging, we can install `span_marker` using the `[wandb]` extra."
   ]
  },
  {
   "cell_type": "code",
   "execution_count": null,
   "metadata": {},
   "outputs": [],
   "source": [
    "%pip install span_marker\n",
    "# %pip install span_marker[wandb]"
   ]
  },
  {
   "attachments": {},
   "cell_type": "markdown",
   "metadata": {},
   "source": [
    "### Loading the dataset\n",
    "For this example, we'll load the challenging [FewNERD supervised dataset](https://huggingface.co/datasets/DFKI-SLT/few-nerd) from the Hugging Face hub using 🤗 Datasets."
   ]
  },
  {
   "cell_type": "code",
   "execution_count": 2,
   "metadata": {},
   "outputs": [
    {
     "data": {
      "text/plain": [
       "DatasetDict({\n",
       "    train: Dataset({\n",
       "        features: ['id', 'tokens', 'ner_tags', 'fine_ner_tags'],\n",
       "        num_rows: 131767\n",
       "    })\n",
       "    validation: Dataset({\n",
       "        features: ['id', 'tokens', 'ner_tags', 'fine_ner_tags'],\n",
       "        num_rows: 18824\n",
       "    })\n",
       "    test: Dataset({\n",
       "        features: ['id', 'tokens', 'ner_tags', 'fine_ner_tags'],\n",
       "        num_rows: 37648\n",
       "    })\n",
       "})"
      ]
     },
     "execution_count": 2,
     "metadata": {},
     "output_type": "execute_result"
    }
   ],
   "source": [
    "from datasets import load_dataset\n",
    "\n",
    "dataset = load_dataset(\"DFKI-SLT/few-nerd\", \"supervised\")\n",
    "dataset"
   ]
  },
  {
   "attachments": {},
   "cell_type": "markdown",
   "metadata": {},
   "source": [
    "Let's inspect some samples to get a feel for the data."
   ]
  },
  {
   "cell_type": "code",
   "execution_count": 3,
   "metadata": {},
   "outputs": [
    {
     "name": "stdout",
     "output_type": "stream",
     "text": [
      "{'id': '0', 'tokens': ['Paul', 'International', 'airport', '.'], 'ner_tags': [0, 0, 0, 0], 'fine_ner_tags': [0, 0, 0, 0]}\n",
      "{'id': '1', 'tokens': ['It', 'starred', 'Hicks', \"'s\", 'wife', ',', 'Ellaline', 'Terriss', 'and', 'Edmund', 'Payne', '.'], 'ner_tags': [0, 0, 7, 0, 0, 0, 7, 7, 0, 7, 7, 0], 'fine_ner_tags': [0, 0, 51, 0, 0, 0, 50, 50, 0, 50, 50, 0]}\n",
      "{'id': '2', 'tokens': ['``', 'Time', '``', 'magazine', 'said', 'the', 'film', 'was', '``', 'a', 'multimillion', 'dollar', 'improvisation', 'that', 'does', 'everything', 'but', 'what', 'the', 'title', 'promises', \"''\", 'and', 'suggested', 'that', '``', 'writer', 'George', 'Axelrod', '(', '``', 'The', 'Seven', 'Year', 'Itch', '``', ')', 'and', 'director', 'Richard', 'Quine', 'should', 'have', 'taken', 'a', 'hint', 'from', 'Holden', '[', \"'s\", 'character', 'Richard', 'Benson', ']', ',', 'who', 'writes', 'his', 'movie', ',', 'takes', 'a', 'long', 'sober', 'look', 'at', 'what', 'he', 'has', 'wrought', ',', 'and', 'burns', 'it', '.', \"''\"], 'ner_tags': [0, 1, 0, 0, 0, 0, 0, 0, 0, 0, 0, 0, 0, 0, 0, 0, 0, 0, 0, 0, 0, 0, 0, 0, 0, 0, 0, 7, 7, 0, 0, 1, 1, 1, 1, 0, 0, 0, 0, 7, 7, 0, 0, 0, 0, 0, 0, 7, 0, 0, 0, 7, 7, 0, 0, 0, 0, 0, 0, 0, 0, 0, 0, 0, 0, 0, 0, 0, 0, 0, 0, 0, 0, 0, 0, 0], 'fine_ner_tags': [0, 6, 0, 0, 0, 0, 0, 0, 0, 0, 0, 0, 0, 0, 0, 0, 0, 0, 0, 0, 0, 0, 0, 0, 0, 0, 0, 51, 51, 0, 0, 6, 6, 6, 6, 0, 0, 0, 0, 53, 53, 0, 0, 0, 0, 0, 0, 54, 0, 0, 0, 54, 54, 0, 0, 0, 0, 0, 0, 0, 0, 0, 0, 0, 0, 0, 0, 0, 0, 0, 0, 0, 0, 0, 0, 0]}\n"
     ]
    }
   ],
   "source": [
    "for sample in dataset[\"train\"].select(range(3)):\n",
    "    print(sample)"
   ]
  },
  {
   "attachments": {},
   "cell_type": "markdown",
   "metadata": {},
   "source": [
    "As you can see, this dataset contains `tokens`, `ner_tags` and a `fine_ner_tags` columns. Let's have a look at which labels these last two represent using the [Dataset features](https://huggingface.co/docs/datasets/about_dataset_features)."
   ]
  },
  {
   "cell_type": "code",
   "execution_count": 4,
   "metadata": {},
   "outputs": [
    {
     "name": "stdout",
     "output_type": "stream",
     "text": [
      "['O', 'art', 'building', 'event', 'location', 'organization', 'other', 'person', 'product']\n"
     ]
    }
   ],
   "source": [
    "labels = dataset[\"train\"].features[\"ner_tags\"].feature.names\n",
    "print(labels)"
   ]
  },
  {
   "cell_type": "code",
   "execution_count": 5,
   "metadata": {},
   "outputs": [
    {
     "name": "stdout",
     "output_type": "stream",
     "text": [
      "['O', 'art-broadcastprogram', 'art-film', 'art-music', 'art-other', 'art-painting', 'art-writtenart', 'building-airport', 'building-hospital', 'building-hotel', 'building-library', 'building-other', 'building-restaurant', 'building-sportsfacility', 'building-theater', 'event-attack/battle/war/militaryconflict', 'event-disaster', 'event-election', 'event-other', 'event-protest', 'event-sportsevent', 'location-GPE', 'location-bodiesofwater', 'location-island', 'location-mountain', 'location-other', 'location-park', 'location-road/railway/highway/transit', 'organization-company', 'organization-education', 'organization-government/governmentagency', 'organization-media/newspaper', 'organization-other', 'organization-politicalparty', 'organization-religion', 'organization-showorganization', 'organization-sportsleague', 'organization-sportsteam', 'other-astronomything', 'other-award', 'other-biologything', 'other-chemicalthing', 'other-currency', 'other-disease', 'other-educationaldegree', 'other-god', 'other-language', 'other-law', 'other-livingthing', 'other-medical', 'person-actor', 'person-artist/author', 'person-athlete', 'person-director', 'person-other', 'person-politician', 'person-scholar', 'person-soldier', 'product-airplane', 'product-car', 'product-food', 'product-game', 'product-other', 'product-ship', 'product-software', 'product-train', 'product-weapon']\n"
     ]
    }
   ],
   "source": [
    "fine_labels = dataset[\"train\"].features[\"fine_ner_tags\"].feature.names\n",
    "print(fine_labels)"
   ]
  },
  {
   "attachments": {},
   "cell_type": "markdown",
   "metadata": {},
   "source": [
    "For the purposes of this tutorial, let's stick with the `ner_tags` coarse-grained labels, but I challenge you to modify this Notebook to train for the fine labels. For the SpanMarker model, any dataset can be used as long as it has a `tokens` and a `ner_tags` column. The `ner_tags` can be annotated using the IOB, IOB2, BIOES or BILOU labeling scheme, but also regular unschemed labels like in this FewNERD example can be used."
   ]
  },
  {
   "attachments": {},
   "cell_type": "markdown",
   "metadata": {},
   "source": [
    "### Initializing a `SpanMarkerModel`\n",
    "A SpanMarker model is initialized via `SpanMarkerModel.from_pretrained`. This method will be familiar to those who know 🤗 Transformers. It accepts either a path to a local model or the name of a model on the [Hugging Face Hub](https://huggingface.co/models).\n",
    "\n",
    "Importantly, the model can *either* be an encoder or an already trained and saved SpanMarker model. As we haven't trained anything yet, we will use an encoder.\n",
    "\n",
    "Reasonable options for encoders include BERT, RoBERTa, etc., which means that the following are all good options: `\"bert-base-cased\"`, `\"bert-large-cased\"`, `\"roberta-base\"`, `\"roberta-large\"`. Not all encoders work though, they **must** allow for `position_ids` as an input argument, which disqualifies DistilBERT, T5, DistilRoBERTa, ALBERT & BART. Furthermore, using uncased models is generally not recommended, as the capitalisation can be very useful to find named entities.\n",
    "\n",
    "We'll use `\"bert-base-cased\"` for this notebook. Note that we ensure that the model is placed on the GPU with `.cuda()`. If you're running this on Google Colab, be sure to set hardware accelerator to \"GPU\" in `Runtime` > `Change runtime type`."
   ]
  },
  {
   "cell_type": "code",
   "execution_count": 6,
   "metadata": {},
   "outputs": [
    {
     "name": "stderr",
     "output_type": "stream",
     "text": [
      "Some weights of the model checkpoint at bert-base-cased were not used when initializing BertModel: ['cls.seq_relationship.bias', 'cls.predictions.decoder.weight', 'cls.predictions.transform.dense.weight', 'cls.predictions.transform.dense.bias', 'cls.seq_relationship.weight', 'cls.predictions.transform.LayerNorm.bias', 'cls.predictions.transform.LayerNorm.weight', 'cls.predictions.bias']\n",
      "- This IS expected if you are initializing BertModel from the checkpoint of a model trained on another task or with another architecture (e.g. initializing a BertForSequenceClassification model from a BertForPreTraining model).\n",
      "- This IS NOT expected if you are initializing BertModel from the checkpoint of a model that you expect to be exactly identical (initializing a BertForSequenceClassification model from a BertForSequenceClassification model).\n"
     ]
    }
   ],
   "source": [
    "from span_marker import SpanMarkerModel\n",
    "\n",
    "model_name = \"bert-base-cased\"\n",
    "model = SpanMarkerModel.from_pretrained(model_name, labels=labels, model_max_length=256).cuda()"
   ]
  },
  {
   "attachments": {},
   "cell_type": "markdown",
   "metadata": {},
   "source": [
    "For us, these warnings are expected, as we are initializing `BertModel` for a new task.\n",
    "\n",
    "Note that we provided `SpanMarkerModel.from_pretrained` with a list of our labels. This is required when training a new model using an encoder. Furthermore, we can specify some useful configuration parameters from `SpanMarkerConfig`, such as:\n",
    "\n",
    "* `model_max_length`: The maximum number of tokens that the model will process. If you only use short sentences for your model, reducing this number may help training and inference speeds with no loss in performance. Defaults to the encoder maximum, or 512 if the encoder doesn't have a maximum.\n",
    "* `entity_max_length`: The total number of words that one entity can be. Defaults to 16."
   ]
  },
  {
   "attachments": {},
   "cell_type": "markdown",
   "metadata": {},
   "source": [
    "### Training\n",
    "At this point, our model is already ready for training! We can import [TrainingArguments](https://huggingface.co/docs/transformers/main_classes/trainer#transformers.TrainingArguments) directly from 🤗 Transformers as well as the SpanMarker `Trainer`. The `Trainer` is a subclass of the 🤗 Transformers [Trainer](https://huggingface.co/docs/transformers/main_classes/trainer) that simplifies some tasks for you, but otherwise it works just like the regular `Trainer`.\n",
    "\n",
    "This next snippet shows some reasonable defaults. Feel free to adjust the batch size to a lower value if you experience out of memory exceptions."
   ]
  },
  {
   "cell_type": "code",
   "execution_count": 7,
   "metadata": {},
   "outputs": [],
   "source": [
    "from transformers import TrainingArguments\n",
    "\n",
    "args = TrainingArguments(\n",
    "    output_dir=\"my_span_marker_model\",\n",
    "    learning_rate=5e-5,\n",
    "    gradient_accumulation_steps=2,\n",
    "    per_device_train_batch_size=4,\n",
    "    per_device_eval_batch_size=4,\n",
    "    num_train_epochs=1,\n",
    "    evaluation_strategy=\"steps\",\n",
    "    save_strategy=\"steps\",\n",
    "    eval_steps=200,\n",
    "    push_to_hub=False,\n",
    "    logging_steps=50,\n",
    "    fp16=True,\n",
    "    warmup_ratio=0.1,\n",
    ")"
   ]
  },
  {
   "attachments": {},
   "cell_type": "markdown",
   "metadata": {},
   "source": [
    "Now we can create a SpanMarker `Trainer` in the same way that you would initialize a 🤗 Transformers `Trainer`. We'll train on a subsection of the data to save us some time. Amazingly, this `Trainer` will automatically create logs using exactly the logging tools that you have installed. With other words, if you prefer logging with [Tensorboard](https://www.tensorflow.org/tensorboard), all that you have to do is install it."
   ]
  },
  {
   "cell_type": "code",
   "execution_count": null,
   "metadata": {},
   "outputs": [],
   "source": [
    "from span_marker import Trainer\n",
    "\n",
    "trainer = Trainer(\n",
    "    model=model,\n",
    "    args=args,\n",
    "    train_dataset=dataset[\"train\"].select(range(8000)),\n",
    "    eval_dataset=dataset[\"validation\"].select(range(2000)),\n",
    ")"
   ]
  },
  {
   "attachments": {},
   "cell_type": "markdown",
   "metadata": {},
   "source": [
    "Let's start training!"
   ]
  },
  {
   "cell_type": "code",
   "execution_count": 9,
   "metadata": {},
   "outputs": [
    {
     "data": {
      "application/vnd.jupyter.widget-view+json": {
       "model_id": "22875ae9e7f84b5ca16e8b8e390466f3",
       "version_major": 2,
       "version_minor": 0
      },
      "text/plain": [
       "  0%|          | 0/1598 [00:00<?, ?it/s]"
      ]
     },
     "metadata": {},
     "output_type": "display_data"
    },
    {
     "name": "stdout",
     "output_type": "stream",
     "text": [
      "{'loss': 0.9641, 'learning_rate': 1.5625e-05, 'epoch': 0.03}\n",
      "{'loss': 0.0589, 'learning_rate': 3.125e-05, 'epoch': 0.06}\n",
      "{'loss': 0.0402, 'learning_rate': 4.6875e-05, 'epoch': 0.09}\n",
      "{'loss': 0.0316, 'learning_rate': 4.860917941585536e-05, 'epoch': 0.13}\n"
     ]
    },
    {
     "data": {
      "application/vnd.jupyter.widget-view+json": {
       "model_id": "05d6baba32c64bada951ef158c963746",
       "version_major": 2,
       "version_minor": 0
      },
      "text/plain": [
       "  0%|          | 0/798 [00:00<?, ?it/s]"
      ]
     },
     "metadata": {},
     "output_type": "display_data"
    },
    {
     "name": "stdout",
     "output_type": "stream",
     "text": [
      "{'eval_loss': 0.024076074361801147, 'eval_overall_precision': 0.8170849420849421, 'eval_overall_recall': 0.32545174932718185, 'eval_overall_f1': 0.4654935386307396, 'eval_overall_accuracy': 0.847783060254239, 'eval_runtime': 56.1727, 'eval_samples_per_second': 56.825, 'eval_steps_per_second': 14.206, 'epoch': 0.13}\n",
      "{'loss': 0.0255, 'learning_rate': 4.687065368567455e-05, 'epoch': 0.16}\n",
      "{'loss': 0.0222, 'learning_rate': 4.513212795549374e-05, 'epoch': 0.19}\n",
      "{'loss': 0.0187, 'learning_rate': 4.3393602225312935e-05, 'epoch': 0.22}\n",
      "{'loss': 0.0206, 'learning_rate': 4.165507649513213e-05, 'epoch': 0.25}\n"
     ]
    },
    {
     "data": {
      "application/vnd.jupyter.widget-view+json": {
       "model_id": "1850dd189a5f465bb68804e188a9f306",
       "version_major": 2,
       "version_minor": 0
      },
      "text/plain": [
       "  0%|          | 0/798 [00:00<?, ?it/s]"
      ]
     },
     "metadata": {},
     "output_type": "display_data"
    },
    {
     "name": "stdout",
     "output_type": "stream",
     "text": [
      "{'eval_loss': 0.015418353490531445, 'eval_overall_precision': 0.8094736842105263, 'eval_overall_recall': 0.5913110342176087, 'eval_overall_f1': 0.683403688069318, 'eval_overall_accuracy': 0.8975290252810708, 'eval_runtime': 56.6214, 'eval_samples_per_second': 56.374, 'eval_steps_per_second': 14.094, 'epoch': 0.25}\n",
      "{'loss': 0.0177, 'learning_rate': 3.991655076495132e-05, 'epoch': 0.28}\n",
      "{'loss': 0.0174, 'learning_rate': 3.8178025034770514e-05, 'epoch': 0.31}\n",
      "{'loss': 0.0166, 'learning_rate': 3.643949930458971e-05, 'epoch': 0.34}\n",
      "{'loss': 0.017, 'learning_rate': 3.47009735744089e-05, 'epoch': 0.38}\n"
     ]
    },
    {
     "data": {
      "application/vnd.jupyter.widget-view+json": {
       "model_id": "578daf8cafb44a0f8855bfb0a262242a",
       "version_major": 2,
       "version_minor": 0
      },
      "text/plain": [
       "  0%|          | 0/798 [00:00<?, ?it/s]"
      ]
     },
     "metadata": {},
     "output_type": "display_data"
    },
    {
     "name": "stdout",
     "output_type": "stream",
     "text": [
      "{'eval_loss': 0.01408446952700615, 'eval_overall_precision': 0.7957330912392192, 'eval_overall_recall': 0.6739715494040753, 'eval_overall_f1': 0.7298084929225646, 'eval_overall_accuracy': 0.9152604623640556, 'eval_runtime': 55.8272, 'eval_samples_per_second': 57.176, 'eval_steps_per_second': 14.294, 'epoch': 0.38}\n",
      "{'loss': 0.0139, 'learning_rate': 3.296244784422809e-05, 'epoch': 0.41}\n",
      "{'loss': 0.0164, 'learning_rate': 3.1223922114047285e-05, 'epoch': 0.44}\n",
      "{'loss': 0.0145, 'learning_rate': 2.948539638386648e-05, 'epoch': 0.47}\n",
      "{'loss': 0.0169, 'learning_rate': 2.7746870653685674e-05, 'epoch': 0.5}\n"
     ]
    },
    {
     "data": {
      "application/vnd.jupyter.widget-view+json": {
       "model_id": "30272173a1634bf7ae548e4e70bbbc21",
       "version_major": 2,
       "version_minor": 0
      },
      "text/plain": [
       "  0%|          | 0/798 [00:00<?, ?it/s]"
      ]
     },
     "metadata": {},
     "output_type": "display_data"
    },
    {
     "name": "stdout",
     "output_type": "stream",
     "text": [
      "{'eval_loss': 0.013778015039861202, 'eval_overall_precision': 0.7470062725717544, 'eval_overall_recall': 0.7554786620530565, 'eval_overall_f1': 0.7512185797572398, 'eval_overall_accuracy': 0.9324205758126058, 'eval_runtime': 53.5181, 'eval_samples_per_second': 59.643, 'eval_steps_per_second': 14.911, 'epoch': 0.5}\n",
      "{'loss': 0.0148, 'learning_rate': 2.6008344923504867e-05, 'epoch': 0.53}\n",
      "{'loss': 0.0139, 'learning_rate': 2.426981919332406e-05, 'epoch': 0.56}\n",
      "{'loss': 0.013, 'learning_rate': 2.2531293463143256e-05, 'epoch': 0.59}\n",
      "{'loss': 0.0137, 'learning_rate': 2.079276773296245e-05, 'epoch': 0.63}\n"
     ]
    },
    {
     "data": {
      "application/vnd.jupyter.widget-view+json": {
       "model_id": "63d2197ab29847198cf3a29ea7d31ec9",
       "version_major": 2,
       "version_minor": 0
      },
      "text/plain": [
       "  0%|          | 0/798 [00:00<?, ?it/s]"
      ]
     },
     "metadata": {},
     "output_type": "display_data"
    },
    {
     "name": "stdout",
     "output_type": "stream",
     "text": [
      "{'eval_loss': 0.01310335099697113, 'eval_overall_precision': 0.7751906864712966, 'eval_overall_recall': 0.7424067666282199, 'eval_overall_f1': 0.7584446190102121, 'eval_overall_accuracy': 0.9330735171091024, 'eval_runtime': 53.7052, 'eval_samples_per_second': 59.436, 'eval_steps_per_second': 14.859, 'epoch': 0.63}\n",
      "{'loss': 0.0137, 'learning_rate': 1.9054242002781642e-05, 'epoch': 0.66}\n",
      "{'loss': 0.0133, 'learning_rate': 1.7315716272600835e-05, 'epoch': 0.69}\n",
      "{'loss': 0.0121, 'learning_rate': 1.5577190542420028e-05, 'epoch': 0.72}\n",
      "{'loss': 0.0137, 'learning_rate': 1.383866481223922e-05, 'epoch': 0.75}\n"
     ]
    },
    {
     "data": {
      "application/vnd.jupyter.widget-view+json": {
       "model_id": "778e8854a84b4b1fb6e4ff5aaf9c9b4a",
       "version_major": 2,
       "version_minor": 0
      },
      "text/plain": [
       "  0%|          | 0/798 [00:00<?, ?it/s]"
      ]
     },
     "metadata": {},
     "output_type": "display_data"
    },
    {
     "name": "stdout",
     "output_type": "stream",
     "text": [
      "{'eval_loss': 0.012467470020055771, 'eval_overall_precision': 0.7672907909820404, 'eval_overall_recall': 0.7720107650903498, 'eval_overall_f1': 0.7696435415868148, 'eval_overall_accuracy': 0.9368687383949886, 'eval_runtime': 55.1376, 'eval_samples_per_second': 57.892, 'eval_steps_per_second': 14.473, 'epoch': 0.75}\n",
      "{'loss': 0.0134, 'learning_rate': 1.2100139082058415e-05, 'epoch': 0.78}\n",
      "{'loss': 0.0123, 'learning_rate': 1.0361613351877608e-05, 'epoch': 0.81}\n",
      "{'loss': 0.0113, 'learning_rate': 8.623087621696801e-06, 'epoch': 0.84}\n",
      "{'loss': 0.0136, 'learning_rate': 6.884561891515995e-06, 'epoch': 0.88}\n"
     ]
    },
    {
     "data": {
      "application/vnd.jupyter.widget-view+json": {
       "model_id": "798fb57b7e144d11840e25ca600ba58a",
       "version_major": 2,
       "version_minor": 0
      },
      "text/plain": [
       "  0%|          | 0/798 [00:00<?, ?it/s]"
      ]
     },
     "metadata": {},
     "output_type": "display_data"
    },
    {
     "name": "stdout",
     "output_type": "stream",
     "text": [
      "{'eval_loss': 0.011955244466662407, 'eval_overall_precision': 0.7783554785287887, 'eval_overall_recall': 0.7770088427527874, 'eval_overall_f1': 0.7776815776815776, 'eval_overall_accuracy': 0.939052010855149, 'eval_runtime': 54.9137, 'eval_samples_per_second': 58.128, 'eval_steps_per_second': 14.532, 'epoch': 0.88}\n",
      "{'loss': 0.0112, 'learning_rate': 5.1460361613351884e-06, 'epoch': 0.91}\n",
      "{'loss': 0.0118, 'learning_rate': 3.4075104311543813e-06, 'epoch': 0.94}\n",
      "{'loss': 0.0128, 'learning_rate': 1.6689847009735746e-06, 'epoch': 0.97}\n",
      "{'train_runtime': 809.692, 'train_samples_per_second': 15.792, 'train_steps_per_second': 1.974, 'train_loss': 0.04753492740874595, 'epoch': 1.0}\n"
     ]
    },
    {
     "data": {
      "text/plain": [
       "TrainOutput(global_step=1598, training_loss=0.04753492740874595, metrics={'train_runtime': 809.692, 'train_samples_per_second': 15.792, 'train_steps_per_second': 1.974, 'train_loss': 0.04753492740874595, 'epoch': 1.0})"
      ]
     },
     "execution_count": 9,
     "metadata": {},
     "output_type": "execute_result"
    }
   ],
   "source": [
    "trainer.train()"
   ]
  },
  {
   "attachments": {},
   "cell_type": "markdown",
   "metadata": {},
   "source": [
    "And now the final step is to compute the model's performance."
   ]
  },
  {
   "cell_type": "code",
   "execution_count": 10,
   "metadata": {},
   "outputs": [
    {
     "data": {
      "application/vnd.jupyter.widget-view+json": {
       "model_id": "c4074d16544348759f169b45a736c676",
       "version_major": 2,
       "version_minor": 0
      },
      "text/plain": [
       "  0%|          | 0/798 [00:00<?, ?it/s]"
      ]
     },
     "metadata": {},
     "output_type": "display_data"
    },
    {
     "data": {
      "text/plain": [
       "{'eval_loss': 0.011929686181247234,\n",
       " 'eval_overall_precision': 0.7800192122958693,\n",
       " 'eval_overall_recall': 0.7804690503652442,\n",
       " 'eval_overall_f1': 0.7802440664937061,\n",
       " 'eval_overall_accuracy': 0.9403374890326267,\n",
       " 'eval_runtime': 56.533,\n",
       " 'eval_samples_per_second': 56.463,\n",
       " 'eval_steps_per_second': 14.116,\n",
       " 'epoch': 1.0}"
      ]
     },
     "execution_count": 10,
     "metadata": {},
     "output_type": "execute_result"
    }
   ],
   "source": [
    "metrics = trainer.evaluate()\n",
    "metrics"
   ]
  },
  {
   "attachments": {},
   "cell_type": "markdown",
   "metadata": {},
   "source": [
    "Let's try the model out with some predictions. For this we can use the `model.predict` method, which accepts either:\n",
    "\n",
    "* A sentence as a string.\n",
    "* A tokenized sentence as a list of strings.\n",
    "* A list of sentences as a list of strings.\n",
    "* A list of tokenized sentences as a list of lists of strings.\n",
    "\n",
    "The method returns a list of dictionaries for each sentence, with the following keys:\n",
    "\n",
    "* `\"label\"`: The string label for the found entity.\n",
    "* `\"score\"`: The probability score indicating the model its confidence.\n",
    "* `\"span\"`: The entity span as a string.\n",
    "* `\"word_start_index\"` and `\"word_end_index\"`: Integers useful for indexing the entity from a tokenized sentence.\n",
    "* `\"char_start_index\"` and `\"char_end_index\"`: Integers useful for indexing the entity from a string sentence."
   ]
  },
  {
   "cell_type": "code",
   "execution_count": 22,
   "metadata": {},
   "outputs": [
    {
     "name": "stdout",
     "output_type": "stream",
     "text": [
      "Battle of Camulodunum => event\n",
      "Quintus Petillius Cerialis => person\n",
      "Boudica => location\n",
      "Camulodunum => location\n",
      "Colchester => location\n",
      "\n",
      "Wellingborough => location\n",
      "Northamptonshire => location\n",
      "Victoria Junior School => organization\n",
      "Westfield Boys School => organization\n",
      "Sir Christopher Hatton School => organization\n",
      "\n",
      "Nintendo => organization\n",
      "Wii => product\n",
      "Wii Mini => product\n",
      "Wii U => product\n",
      "Wii U => product\n",
      "\n",
      "Dorsa => person\n",
      "Bachelor of Music in Composition => other\n",
      "California State University => organization\n",
      "Northridge => location\n",
      "Master of Music in Harpsichord Performance => other\n",
      "Cal State Northridge => organization\n",
      "Doctor of Musical Arts => other\n",
      "University of Michigan => organization\n",
      "Ann Arbor => location\n",
      "\n"
     ]
    }
   ],
   "source": [
    "sentences = [\n",
    "    \"The Ninth suffered a serious defeat at the Battle of Camulodunum under Quintus Petillius Cerialis in the rebellion of Boudica (61), when most of the foot-soldiers were killed in a disastrous attempt to relieve the besieged city of Camulodunum (Colchester).\",\n",
    "    \"He was born in Wellingborough, Northamptonshire, where he attended Victoria Junior School, Westfield Boys School and Sir Christopher Hatton School.\",\n",
    "    \"Nintendo continued to sell the revised Wii model and the Wii Mini alongside the Wii U during the Wii U's first release year.\",\n",
    "    \"Dorsa has a Bachelor of Music in Composition from California State University, Northridge in 2001, Master of Music in Harpsichord Performance at Cal State Northridge in 2004, and a Doctor of Musical Arts at the University of Michigan, Ann Arbor in 2008.\"\n",
    "]\n",
    "\n",
    "entities_per_sentence = model.predict(sentences)\n",
    "\n",
    "for entities in entities_per_sentence:\n",
    "    for entity in entities:\n",
    "        print(entity[\"span\"], \"=>\", entity[\"label\"])\n",
    "    print()"
   ]
  },
  {
   "attachments": {},
   "cell_type": "markdown",
   "metadata": {},
   "source": [
    "Very impressive performance for less than 15 minutes trained! 🎉"
   ]
  },
  {
   "attachments": {},
   "cell_type": "markdown",
   "metadata": {},
   "source": [
    "Once trained, we can save our new model locally."
   ]
  },
  {
   "cell_type": "code",
   "execution_count": 13,
   "metadata": {},
   "outputs": [],
   "source": [
    "trainer.save_model(\"my_span_marker_model/checkpoint-final\")"
   ]
  },
  {
   "attachments": {},
   "cell_type": "markdown",
   "metadata": {},
   "source": [
    "Or we can push it to the 🤗 Hub like so. I've commented it away for now to prevent people from accidentally pushing models."
   ]
  },
  {
   "cell_type": "code",
   "execution_count": null,
   "metadata": {},
   "outputs": [],
   "source": [
    "# trainer.push_to_hub()"
   ]
  },
  {
   "attachments": {},
   "cell_type": "markdown",
   "metadata": {},
   "source": [
    "If we want to use it again, we can just load it using the checkpoint or using the model name on the Hub. This is how it would be done using a local checkpoint."
   ]
  },
  {
   "cell_type": "code",
   "execution_count": null,
   "metadata": {},
   "outputs": [],
   "source": [
    "# model = SpanMarkerModel.from_pretrained(\"my_span_marker_model/checkpoint-final\")"
   ]
  },
  {
   "attachments": {},
   "cell_type": "markdown",
   "metadata": {},
   "source": [
    "That was all! As simple as that. If we put it all together into a single script, it looks something like this:\n",
    "```python\n",
    "from datasets import load_dataset\n",
    "from span_marker import SpanMarkerModel, Trainer\n",
    "from transformers import TrainingArguments\n",
    "\n",
    "dataset = load_dataset(\"DFKI-SLT/few-nerd\", \"supervised\")\n",
    "labels = dataset[\"train\"].features[\"ner_tags\"].feature.names\n",
    "\n",
    "model_name = \"bert-base-cased\"\n",
    "model = SpanMarkerModel.from_pretrained(model_name, labels=labels, model_max_length=256)\n",
    "\n",
    "args = TrainingArguments(\n",
    "    output_dir=\"my_span_marker_model\",\n",
    "    learning_rate=5e-5,\n",
    "    gradient_accumulation_steps=2,\n",
    "    per_device_train_batch_size=4,\n",
    "    per_device_eval_batch_size=4,\n",
    "    num_train_epochs=1,\n",
    "    evaluation_strategy=\"steps\",\n",
    "    save_strategy=\"steps\",\n",
    "    eval_steps=200,\n",
    "    push_to_hub=False,\n",
    "    logging_steps=50,\n",
    "    fp16=True,\n",
    "    warmup_ratio=0.1,\n",
    ")\n",
    "\n",
    "trainer = Trainer(\n",
    "    model=model,\n",
    "    args=args,\n",
    "    train_dataset=dataset[\"train\"].select(range(8000)),\n",
    "    eval_dataset=dataset[\"validation\"].select(range(2000)),\n",
    ")\n",
    "\n",
    "trainer.train()\n",
    "trainer.save_model(\"my_span_marker_model/checkpoint-final\")\n",
    "trainer.push_to_hub()\n",
    "\n",
    "metrics = trainer.evaluate()\n",
    "print(metrics)\n",
    "```"
   ]
  },
  {
   "attachments": {},
   "cell_type": "markdown",
   "metadata": {},
   "source": [
    "With `wandb` initialized, you can enjoy their very useful training graphs straight in your browser. It ends up looking something like this.\n",
    "![image](https://user-images.githubusercontent.com/37621491/228864250-dba81b82-d666-4a73-9111-ca208cc685c5.png)\n",
    "![image](https://user-images.githubusercontent.com/37621491/228864399-0f0735da-ef8c-4093-9a91-51b3bd96000c.png)\n",
    "\n",
    "Furthermore, you can use the `wandb` hyperparameter search functionality using the tutorial from the Hugging Face documentation [here](https://huggingface.co/docs/transformers/hpo_train). This transfers very well to the SpanMarker `Trainer`."
   ]
  },
  {
   "cell_type": "markdown",
   "metadata": {},
   "source": []
  }
 ],
 "metadata": {
  "kernelspec": {
   "display_name": "span-marker-ner",
   "language": "python",
   "name": "python3"
  },
  "language_info": {
   "codemirror_mode": {
    "name": "ipython",
    "version": 3
   },
   "file_extension": ".py",
   "mimetype": "text/x-python",
   "name": "python",
   "nbconvert_exporter": "python",
   "pygments_lexer": "ipython3",
   "version": "3.9.16"
  },
  "vscode": {
   "interpreter": {
    "hash": "c231fc6d0de0df4a232423539031d78e3a72f0f8d848d7b948e520fe3bfbe8ca"
   }
  }
 },
 "nbformat": 4,
 "nbformat_minor": 2
}
